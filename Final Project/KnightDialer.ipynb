{
  "nbformat": 4,
  "nbformat_minor": 0,
  "metadata": {
    "colab": {
      "name": "KnightDialer.ipynb",
      "provenance": []
    },
    "kernelspec": {
      "name": "python3",
      "display_name": "Python 3"
    }
  },
  "cells": [
    {
      "cell_type": "code",
      "metadata": {
        "id": "gXp4Kx-1Y2lh"
      },
      "source": [
        "import time\n",
        "def knightDialer(n):\n",
        "\tif n == 1:\n",
        "\t\treturn 10\n",
        "\tgraph = {0:[4, 6], 1:[6, 8], 2:[7, 9], 3:[4, 8], 4:[0, 3, 9], 6:[0, 1, 7], 7:[2, 6], 8:[1, 3], 9:[2, 4]}\n",
        "\tcnt = {0:1, 1:1, 2:1, 3:1, 4:1, 6:1, 7:1, 8:1, 9:1}\n",
        "\tfor i in range(n - 1):\n",
        "\t\ttmp = {0:0, 1:0, 2:0, 3:0, 4:0, 6:0, 7:0, 8:0, 9:0}\n",
        "\t\tfor k in cnt:\n",
        "\t\t\tfor v in graph[k]:\n",
        "\t\t\t\ttmp[v]  +=  cnt[k]\n",
        "\t\tcnt = tmp\n",
        "\treturn sum(cnt.values()) % (10 **9 + 7)\n",
        "\n",
        "n = int(input())\n",
        "start = time.time()\n",
        "print(knightDialer(n))\n",
        "end_ = time.time() - start\n",
        "\n",
        "print(round(end_,5))"
      ],
      "execution_count": null,
      "outputs": []
    },
    {
      "cell_type": "code",
      "metadata": {
        "id": "Ol0Eq77onWyp"
      },
      "source": [
        "!cat DPfast.csv"
      ],
      "execution_count": null,
      "outputs": []
    },
    {
      "cell_type": "code",
      "metadata": {
        "id": "Sb4rSL12nu1d"
      },
      "source": [
        "import pandas as pd\n",
        "data=pd.read_csv('DPfast.csv')\n",
        "data.columns=['size','operation']\n",
        "print (data)"
      ],
      "execution_count": null,
      "outputs": []
    },
    {
      "cell_type": "code",
      "metadata": {
        "id": "dnGhNoT2n0nZ"
      },
      "source": [
        "import numpy as np"
      ],
      "execution_count": null,
      "outputs": []
    },
    {
      "cell_type": "code",
      "metadata": {
        "id": "M-d6v6_eoBex"
      },
      "source": [
        "X_=np.array(data['size']).reshape(-1,1)\n",
        "X_"
      ],
      "execution_count": null,
      "outputs": []
    },
    {
      "cell_type": "code",
      "metadata": {
        "id": "x64pD7k5oIyq"
      },
      "source": [
        "Y_=np.array(data['operation']).reshape(-1,1)\n",
        "Y_"
      ],
      "execution_count": null,
      "outputs": []
    },
    {
      "cell_type": "code",
      "metadata": {
        "id": "b5HxeNbPp24t"
      },
      "source": [
        "def log2_n(arr):\n",
        "  return np.log2(arr)\n",
        "log2_n(X_)"
      ],
      "execution_count": null,
      "outputs": []
    },
    {
      "cell_type": "code",
      "metadata": {
        "id": "1-dwgfR3rXDo"
      },
      "source": [
        "def sqrt_n(arr):\n",
        "  return arr**(1/2)\n",
        "sqrt_n(X_)"
      ],
      "execution_count": null,
      "outputs": []
    },
    {
      "cell_type": "code",
      "metadata": {
        "id": "G7ThYItksKrc"
      },
      "source": [
        "def n2(arr):\n",
        "  return arr**2\n",
        "n2(X_)"
      ],
      "execution_count": null,
      "outputs": []
    },
    {
      "cell_type": "code",
      "metadata": {
        "id": "5PO5L_TosqwS"
      },
      "source": [
        "def n3(arr):\n",
        "  return arr**3\n",
        "n3(X_)"
      ],
      "execution_count": null,
      "outputs": []
    },
    {
      "cell_type": "code",
      "metadata": {
        "id": "EFKjM-D_tIRW"
      },
      "source": [
        "def nlogn(arr):\n",
        "  return arr*np.log2(arr)\n",
        "nlogn(X_)"
      ],
      "execution_count": null,
      "outputs": []
    },
    {
      "cell_type": "code",
      "metadata": {
        "id": "4wCGPZgyp6dH"
      },
      "source": [
        "from sklearn.linear_model import LinearRegression\n",
        "model = LinearRegression()"
      ],
      "execution_count": null,
      "outputs": []
    },
    {
      "cell_type": "code",
      "metadata": {
        "id": "YM4fUlcyqDLw"
      },
      "source": [
        "model.fit(nlogn(X_),Y_)"
      ],
      "execution_count": null,
      "outputs": []
    },
    {
      "cell_type": "code",
      "metadata": {
        "id": "T4cCiAqxqKFk"
      },
      "source": [
        "model.coef_"
      ],
      "execution_count": null,
      "outputs": []
    },
    {
      "cell_type": "code",
      "metadata": {
        "id": "IBEnB6mPqM1V"
      },
      "source": [
        "model.intercept_"
      ],
      "execution_count": null,
      "outputs": []
    },
    {
      "cell_type": "code",
      "metadata": {
        "id": "ErGI_ff1x0Po"
      },
      "source": [
        "import time\n",
        "def knightDialer(n):\n",
        "        f = [10,20,46,104]\n",
        "        if n <= 4:\n",
        "            return f[n-1]\n",
        "        cnt = 5\n",
        "        while cnt <= n:\n",
        "            temp = f[3]- f[2]*2\n",
        "            if cnt % 2 != 0: temp+= f[1]    \n",
        "            else: temp *= 2\n",
        "            f.append((f[3]*2 + temp)% (10**9 + 7))\n",
        "            f.pop(0)\n",
        "            cnt+=1\n",
        "        return f[-1] % (10 **9 + 7)\n",
        "\n",
        "n = int(input())\n",
        "start = time.time()\n",
        "print(knightDialer(n))\n",
        "end_ = time.time() - start\n",
        "\n",
        "print(round(end_,5))"
      ],
      "execution_count": null,
      "outputs": []
    }
  ]
}